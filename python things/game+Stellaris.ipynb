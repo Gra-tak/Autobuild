{
 "cells": [
  {
   "cell_type": "code",
   "execution_count": 7,
   "metadata": {
    "collapsed": true
   },
   "outputs": [],
   "source": [
    "# my python auto generate code for some things\n",
    "\n",
    "import numpy as np\n",
    "import glob\n",
    "from PIL import Image\n",
    "import os\n",
    "import random\n",
    "import fnmatch\n",
    "import glob\n",
    "import re\n",
    "\n",
    "work_dir = r'output\\dir\\path'"
   ]
  },
  {
   "cell_type": "code",
   "execution_count": null,
   "metadata": {
    "collapsed": true
   },
   "outputs": [],
   "source": [
    "# auto upgrade links for autobuild\n",
    "target_dir = r'target\\dir\\path'\n",
    "\n",
    "def make_upgrade(files):\n",
    "    for file in files:\n",
    "        with open(file, 'r') as f:\n",
    "            text = f.read()\n",
    "        text = re.sub('#+.*\\n', '\\n', text)\n",
    "        text = re.sub('\\t*\\n', '\\n', text)\n",
    "        text = re.sub(' *\\n', '\\n', text)\n",
    "        buildings = re.findall(r'\\n\\w*? = {.*?\\n}', text, re.DOTALL)\n",
    "        for building in buildings:\n",
    "            if 'upgrades = {' in building:\n",
    "                name = re.match(r'\\n\\w* = {', building).group(0).replace(' = {', '')\n",
    "                print(name)\n",
    "                upgrade = re.search(r'upgrades = {.*?}', building, re.DOTALL).group(0).replace('upgrades = {', '').replace('}', '').replace('\\t', '')\n",
    "                upgrade = upgrade.split()\n",
    "                print(upgrade)\n",
    "                if len(upgrade) == 1:\n",
    "                    with open(os.path.join(work_dir, 'update_code'), 'a') as f2:\n",
    "                        f2.write('{0} = {{ add_building_construction = {1} }}'.format(name, upgrade[0]))\n",
    "\n",
    "make_upgrade(glob.glob(target_dir + '\\\\*.txt'))\n",
    "print('done')"
   ]
  },
  {
   "cell_type": "code",
   "execution_count": null,
   "metadata": {
    "collapsed": true
   },
   "outputs": [],
   "source": [
    "# clean blocker code generation for autobuild\n",
    "target_dir = r'target\\dir\\path'\n",
    "ban_list = []\n",
    "def make_blocker(files):\n",
    "    for file in files:\n",
    "        with open(file, 'r') as f:\n",
    "            text = f.readlines()\n",
    "        i = 0\n",
    "        name = None\n",
    "        cost = 0\n",
    "        tech = None\n",
    "        while i < len(text):\n",
    "            line_temp = text[i][:text[i].find('#')].replace('\\n', '')\n",
    "            if len(line_temp) > 0:\n",
    "                if not line_temp.startswith('\\t') and not line_temp.startswith('}'):\n",
    "                    name = line_temp.replace(' = {', '')\n",
    "                if line_temp.startswith('\\t\\tenergy = '):\n",
    "                    cost = line_temp.replace('\\t', '').replace('energy = ', '')\n",
    "                if line_temp.startswith('\\tprerequisites'):\n",
    "                    tech = line_temp.replace('\\t', '\\n' + '\\t'*8).replace('prerequisites', 'has_technology').replace('{ \"', '').replace('\" }', '')\n",
    "                if line_temp.startswith('}'):\n",
    "                    try:\n",
    "                        if name != None and int(cost) > 0:\n",
    "                            #print(name)\n",
    "                            with open(os.path.join(work_dir, 'blocker_code'), 'a') as f2:\n",
    "                                f2.write('\\t\\t\\t\\t\\tif = {{\\n\\t\\t\\t\\t\\t\\tlimit = {{\\n\\t\\t\\t\\t\\t\\t\\thas_blocker = {0}\\n\\t\\t\\t\\t\\t\\t\\towner = {{\\n\\t\\t\\t\\t\\t\\t\\t\\tenergy > {2}{1}\\n\\t\\t\\t\\t\\t\\t\\t}}\\n\\t\\t\\t\\t\\t\\t}}\\n\\t\\t\\t\\t\\t\\towner = {{\\n\\t\\t\\t\\t\\t\\t\\tif = {{\\n\\t\\t\\t\\t\\t\\t\\t\\tlimit = {{\\n\\t\\t\\t\\t\\t\\t\\t\\t\\thas_ascension_perk = ap_mastery_of_nature\\n\\t\\t\\t\\t\\t\\t\\t\\t}}\\n\\t\\t\\t\\t\\t\\t\\t\\tadd_energy = -{3}\\n\\t\\t\\t\\t\\t\\t\\t\\telse = {{\\n\\t\\t\\t\\t\\t\\t\\t\\t\\tadd_energy = {2} \\n\\t\\t\\t\\t\\t\\t\\t\\t}}\\n\\t\\t\\t\\t\\t\\t\\t}}\\n\\t\\t\\t\\t\\t\\t}}\\n\\t\\t\\t\\t\\t\\tremove_blocker = yes\\n\\t\\t\\t\\t\\t}}\\n'.format(name, str(tech).replace('None', ''), cost, str(int(int(cost)*0.67))))\n",
    "                        name = None\n",
    "                        cost = 0\n",
    "                        tech = None\n",
    "                    except Exception as e:\n",
    "                        print(e)\n",
    "            i += 1\n",
    "\n",
    "make_blocker(glob.glob(target_dir + '\\\\*.txt'))\n",
    "print('done')"
   ]
  },
  {
   "cell_type": "code",
   "execution_count": 11,
   "metadata": {},
   "outputs": [
    {
     "name": "stdout",
     "output_type": "stream",
     "text": [
      "invalid literal for int() with base 10: '@fallentechtier'\n",
      "done\n"
     ]
    }
   ],
 "metadata": {
  "kernelspec": {
   "display_name": "Python 3",
   "language": "python",
   "name": "python3"
  },
  "language_info": {
   "codemirror_mode": {
    "name": "ipython",
    "version": 3
   },
   "file_extension": ".py",
   "mimetype": "text/x-python",
   "name": "python",
   "nbconvert_exporter": "python",
   "pygments_lexer": "ipython3",
   "version": "3.6.3"
  }
 },
 "nbformat": 4,
 "nbformat_minor": 2
}
